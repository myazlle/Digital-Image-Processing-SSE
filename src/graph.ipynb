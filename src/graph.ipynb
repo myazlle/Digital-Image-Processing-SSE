import pandas as pd           ###librería para manipular tablas de datos
import seaborn as sns         ###librería para hacer gráficos
import numpy as np            ###librería de cálculo numérico
from scipy import stats       ###librería de estadística
import seaborn_qqplot as sqp  ###librería complementaria a seaborn para hacer qqplots
import matplotlib.pyplot as plt



filtro = pd.read_csv('ImagenFantasmaASM.csv')


media = filtro['Tiempo'].mean()
desviacionStandard = filtro['Tiempo'].std()
aproximacionNormal = np.random.normal(media, stdev, len(filtro['Tiempo']))

pd.read
